{
 "cells": [
  {
   "cell_type": "code",
   "execution_count": 1,
   "metadata": {},
   "outputs": [],
   "source": [
    "__import__('pysqlite3')\n",
    "import sys\n",
    "sys.modules['sqlite3'] = sys.modules.pop('pysqlite3')"
   ]
  },
  {
   "cell_type": "code",
   "execution_count": null,
   "metadata": {},
   "outputs": [],
   "source": [
    "from crewai import Agent, Task, Crew, LLM\n",
    "from crewai_tools import SerperDevTool\n",
    "import os"
   ]
  },
  {
   "cell_type": "code",
   "execution_count": null,
   "metadata": {},
   "outputs": [],
   "source": [
    "os.environ['AWS_SESSION_TOKEN'] =''\n",
    "os.environ['AWS_ACCESS_KEY_ID'] = ''\n",
    "os.environ['AWS_SECRET_ACCESS_KEY'] = ''"
   ]
  },
  {
   "cell_type": "code",
   "execution_count": 10,
   "metadata": {},
   "outputs": [
    {
     "name": "stdout",
     "output_type": "stream",
     "text": [
      "Direct Bedrock test successful!\n"
     ]
    }
   ],
   "source": [
    "import boto3\n",
    "import json\n",
    "\n",
    "try:\n",
    "    # Create a Bedrock Runtime client\n",
    "    bedrock  = boto3.client(\"bedrock-runtime\", \"us-west-2\")\n",
    "    \n",
    "    # Test payload for Claude\n",
    "    payload = {\n",
    "        \"anthropic_version\": \"bedrock-2023-05-31\",\n",
    "        \"max_tokens\": 4096,\n",
    "        \"messages\": [\n",
    "            {\n",
    "                \"role\": \"user\",\n",
    "                \"content\": \"Hello, can you hear me?\"\n",
    "            }\n",
    "        ]\n",
    "    }\n",
    "    \n",
    "    # Try to invoke the model directly\n",
    "    response = bedrock.invoke_model(\n",
    "        modelId='anthropic.claude-3-haiku-20240307-v1:0',\n",
    "        body=json.dumps(payload)\n",
    "    )\n",
    "    print(\"Direct Bedrock test successful!\")\n",
    "    \n",
    "except Exception as e:\n",
    "    print(f\"Bedrock Error: {e}\")"
   ]
  },
  {
   "cell_type": "code",
   "execution_count": 31,
   "metadata": {},
   "outputs": [
    {
     "name": "stderr",
     "output_type": "stream",
     "text": [
      "2024-10-22 10:39:53,567 - 130713693569664 - __init__.py-__init__:538 - WARNING: Overriding of current TracerProvider is not allowed\n"
     ]
    }
   ],
   "source": [
    "# CrewAI LLM config uses LiteLLM\n",
    "llm = LLM(model=\"bedrock/anthropic.claude-3-haiku-20240307-v1:0\")\n",
    "# Define the Agent\n",
    "researcher = Agent(\n",
    " role='Senior Research Analyst',\n",
    " goal='Uncover cutting-edge developments in AI and data science',\n",
    " backstory=\"You work at a leading tech think tank…\",\n",
    " verbose=True,\n",
    " allow_delegation=False,\n",
    " llm=llm,\n",
    " tool=[SerperDevTool()] # Tool for online searching\n",
    ")\n",
    "# Define the Task\n",
    "task1 = Task(\n",
    " description=\"Conduct a comprehensive analysis of the following topic: {topic}\",\n",
    " expected_output=\"in bullet points in italic font\",\n",
    " agent=researcher\n",
    ")\n",
    "crew = Crew(\n",
    " agents=[researcher],\n",
    " tasks=[task1],\n",
    " verbose=True,\n",
    ")"
   ]
  },
  {
   "cell_type": "code",
   "execution_count": 32,
   "metadata": {},
   "outputs": [
    {
     "name": "stdout",
     "output_type": "stream",
     "text": [
      "\u001b[1m\u001b[95m# Agent:\u001b[00m \u001b[1m\u001b[92mSenior Research Analyst\u001b[00m\n",
      "\u001b[95m## Task:\u001b[00m \u001b[92mConduct a comprehensive analysis of the following topic: Amazon Bedrock Foundation Models\u001b[00m\n",
      "\n",
      "\n",
      "\u001b[1m\u001b[95m# Agent:\u001b[00m \u001b[1m\u001b[92mSenior Research Analyst\u001b[00m\n",
      "\u001b[95m## Final Answer:\u001b[00m \u001b[92m\n",
      "*Amazon Bedrock Foundation Models:*\n",
      "\n",
      "_• Amazon Bedrock is a set of pre-trained machine learning models developed by Amazon Web Services (AWS) to serve as a foundation for building advanced AI applications._\n",
      "\n",
      "_• The Bedrock models are designed to be fine-tuned or used directly for a wide range of natural language processing (NLP) tasks, such as text generation, question answering, and language understanding._\n",
      "\n",
      "_• Key features of the Bedrock Foundation Models:_\n",
      "  _ - Large-scale pre-training on diverse data sources, including web text, books, and academic papers_\n",
      "  _ - Support for multiple languages, including English, French, German, Italian, Spanish, and more_\n",
      "  _ - Ability to be fine-tuned on specific tasks or domains using transfer learning_\n",
      "  _ - Optimized for inference performance, enabling fast and efficient deployment in production environments_\n",
      "  _ - Integration with AWS services, such as Amazon SageMaker, for seamless model deployment and scaling_\n",
      "\n",
      "_• The Bedrock models are built using state-of-the-art transformer-based architectures, such as BERT and GPT-3, which have demonstrated strong performance on a variety of NLP tasks._\n",
      "\n",
      "_• Amazon offers several Bedrock Foundation Models, including:_\n",
      "  _ - Bedrock Natural Language Model (BNLM): A general-purpose language model for tasks like text generation, classification, and question answering_\n",
      "  _ - Bedrock Multilingual Model (BM2): A multilingual language model supporting over 100 languages_\n",
      "  _ - Bedrock Retrieval Model (BRM): A model for document retrieval and search_\n",
      "\n",
      "_• The Bedrock Foundation Models are designed to be highly versatile, allowing developers to leverage their capabilities to build a wide range of AI-powered applications, from chatbots and virtual assistants to content moderation and document analysis tools._\n",
      "\n",
      "_• Amazon provides extensive documentation, pre-built examples, and tools to help developers integrate the Bedrock models into their own applications, streamlining the development process and reducing the time and resources required to build advanced AI systems._\u001b[00m\n",
      "\n",
      "\n"
     ]
    }
   ],
   "source": [
    "result = crew.kickoff(inputs={\"topic\":\"Amazon Bedrock Foundation Models\"})"
   ]
  }
 ],
 "metadata": {
  "kernelspec": {
   "display_name": "Python 3",
   "language": "python",
   "name": "python3"
  },
  "language_info": {
   "codemirror_mode": {
    "name": "ipython",
    "version": 3
   },
   "file_extension": ".py",
   "mimetype": "text/x-python",
   "name": "python",
   "nbconvert_exporter": "python",
   "pygments_lexer": "ipython3",
   "version": "3.12.1"
  }
 },
 "nbformat": 4,
 "nbformat_minor": 2
}
